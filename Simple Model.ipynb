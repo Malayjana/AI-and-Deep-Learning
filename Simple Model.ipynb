{
 "cells": [
  {
   "cell_type": "code",
   "execution_count": 5,
   "metadata": {},
   "outputs": [],
   "source": [
    "import tensorflow as tf\n",
    "from tensorflow import keras\n",
    "\n",
    "\n",
    "(x_train,y_train),(x_val,y_val) = keras.datasets.fashion_mnist.load_data()"
   ]
  },
  {
   "cell_type": "code",
   "execution_count": 6,
   "metadata": {},
   "outputs": [],
   "source": [
    "def preprocess(x, y):\n",
    "    x = tf.cast(x, tf.float32) / 255.0\n",
    "    y = tf.cast(y, tf.int64)\n",
    "    return x, y\n",
    "\n",
    "def create_dataset(xs, ys, n_classes=10):\n",
    "    ys = tf.one_hot(ys, depth=n_classes)\n",
    "    return tf.data.Dataset.from_tensor_slices((xs, ys)).map(preprocess).shuffle(len(ys)).batch(128)"
   ]
  },
  {
   "cell_type": "code",
   "execution_count": 7,
   "metadata": {},
   "outputs": [],
   "source": [
    "train_data_set = create_dataset(x_train,y_train)\n",
    "validation_data_set = create_dataset(x_val,y_val)"
   ]
  },
  {
   "cell_type": "code",
   "execution_count": 9,
   "metadata": {},
   "outputs": [],
   "source": [
    "model = keras.Sequential([\n",
    "    keras.layers.Reshape(target_shape=(28 * 28,), input_shape=(28, 28)),\n",
    "    keras.layers.Dense(units=256, activation='relu'),\n",
    "    keras.layers.Dense(units=192, activation='relu'),\n",
    "    keras.layers.Dense(units=128, activation='relu'),\n",
    "    keras.layers.Dense(units=10, activation='softmax')\n",
    "])"
   ]
  },
  {
   "cell_type": "code",
   "execution_count": 10,
   "metadata": {},
   "outputs": [
    {
     "name": "stdout",
     "output_type": "stream",
     "text": [
      "Train for 500 steps, validate for 2 steps\n",
      "Epoch 1/10\n",
      "500/500 [==============================] - 6s 13ms/step - loss: 1.6899 - accuracy: 0.7785 - val_loss: 1.6280 - val_accuracy: 0.8320\n",
      "Epoch 2/10\n",
      "500/500 [==============================] - 4s 7ms/step - loss: 1.6288 - accuracy: 0.8332 - val_loss: 1.6293 - val_accuracy: 0.8320\n",
      "Epoch 3/10\n",
      "500/500 [==============================] - 4s 7ms/step - loss: 1.6160 - accuracy: 0.8450 - val_loss: 1.6513 - val_accuracy: 0.8086\n",
      "Epoch 4/10\n",
      "500/500 [==============================] - 4s 7ms/step - loss: 1.6077 - accuracy: 0.8534 - val_loss: 1.6296 - val_accuracy: 0.8320\n",
      "Epoch 5/10\n",
      "500/500 [==============================] - 4s 7ms/step - loss: 1.6067 - accuracy: 0.8540 - val_loss: 1.6515 - val_accuracy: 0.8047\n",
      "Epoch 6/10\n",
      "500/500 [==============================] - 4s 7ms/step - loss: 1.6030 - accuracy: 0.8578 - val_loss: 1.5876 - val_accuracy: 0.8750\n",
      "Epoch 7/10\n",
      "500/500 [==============================] - 4s 7ms/step - loss: 1.5954 - accuracy: 0.8652 - val_loss: 1.6330 - val_accuracy: 0.8242\n",
      "Epoch 8/10\n",
      "500/500 [==============================] - 3s 7ms/step - loss: 1.5922 - accuracy: 0.8686 - val_loss: 1.6319 - val_accuracy: 0.8320\n",
      "Epoch 9/10\n",
      "500/500 [==============================] - 4s 7ms/step - loss: 1.5894 - accuracy: 0.8714 - val_loss: 1.6381 - val_accuracy: 0.8242\n",
      "Epoch 10/10\n",
      "500/500 [==============================] - 4s 7ms/step - loss: 1.5888 - accuracy: 0.8721 - val_loss: 1.6231 - val_accuracy: 0.8359\n"
     ]
    }
   ],
   "source": [
    "model.compile(optimizer='adam', \n",
    "              loss=tf.losses.CategoricalCrossentropy(from_logits=True),\n",
    "              metrics=['accuracy'])\n",
    "\n",
    "\n",
    "\n",
    "history = model.fit(\n",
    "    train_data_set.repeat(), \n",
    "    epochs=10, \n",
    "    steps_per_epoch=500,\n",
    "    validation_data=validation_data_set.repeat(), \n",
    "    validation_steps=2\n",
    ")"
   ]
  },
  {
   "cell_type": "code",
   "execution_count": 11,
   "metadata": {},
   "outputs": [],
   "source": [
    "predicted_value = model.predict(validation_data_set)"
   ]
  },
  {
   "cell_type": "code",
   "execution_count": 13,
   "metadata": {},
   "outputs": [
    {
     "name": "stdout",
     "output_type": "stream",
     "text": [
      "[8.1873657e-12 3.7554928e-11 1.0034121e-08 2.3348390e-10 9.1392064e-01\n",
      " 2.0109741e-07 8.6059384e-02 1.6563404e-14 1.9739073e-05 5.8297159e-11]\n"
     ]
    }
   ],
   "source": [
    "print (predicted_value[0])"
   ]
  },
  {
   "cell_type": "code",
   "execution_count": 14,
   "metadata": {},
   "outputs": [
    {
     "data": {
      "text/plain": [
       "4"
      ]
     },
     "execution_count": 14,
     "metadata": {},
     "output_type": "execute_result"
    }
   ],
   "source": [
    "import numpy as np\n",
    "np.argmax(predicted_value[0])"
   ]
  },
  {
   "cell_type": "code",
   "execution_count": null,
   "metadata": {},
   "outputs": [],
   "source": []
  }
 ],
 "metadata": {
  "kernelspec": {
   "display_name": "gpudl",
   "language": "python",
   "name": "gpudl"
  },
  "language_info": {
   "codemirror_mode": {
    "name": "ipython",
    "version": 3
   },
   "file_extension": ".py",
   "mimetype": "text/x-python",
   "name": "python",
   "nbconvert_exporter": "python",
   "pygments_lexer": "ipython3",
   "version": "3.7.9"
  }
 },
 "nbformat": 4,
 "nbformat_minor": 4
}
